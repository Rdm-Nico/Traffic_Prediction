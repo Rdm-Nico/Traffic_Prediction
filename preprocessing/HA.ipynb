{
 "cells": [
  {
   "cell_type": "markdown",
   "metadata": {},
   "source": [
    "# Historical Average as Baseline method\n",
    "This file compute the historical Average"
   ]
  },
  {
   "cell_type": "code",
   "execution_count": 32,
   "metadata": {},
   "outputs": [
    {
     "name": "stderr",
     "output_type": "stream",
     "text": [
      "Exception ignored in: <function NeoDriver.__del__ at 0x12c5f9c60>\n",
      "Traceback (most recent call last):\n",
      "  File \"/Users/rdm-nico/VSCode_Projects/GA/Traffic_Prediction_Project/preprocessing/Neo4j.py\", line 264, in __del__\n",
      "    self.close()\n",
      "  File \"/Users/rdm-nico/VSCode_Projects/GA/Traffic_Prediction_Project/preprocessing/Neo4j.py\", line 14, in close\n",
      "    self.driver.close()\n",
      "    ^^^^^^^^^^^\n",
      "AttributeError: 'NeoDriver' object has no attribute 'driver'\n"
     ]
    }
   ],
   "source": [
    "import pandas as pd\n",
    "import numpy as np\n",
    "import argparse\n",
    "import torch\n",
    "from Neo4j import NeoDriver"
   ]
  },
  {
   "cell_type": "code",
   "execution_count": 3,
   "metadata": {},
   "outputs": [
    {
     "name": "stdout",
     "output_type": "stream",
     "text": [
      "<class 'argparse.Namespace'>\n",
      "connection confirmed\n"
     ]
    }
   ],
   "source": [
    "options = {'neo4jURL': 'bolt://localhost:7687', 'neo4juser': 'neo4j', 'neo4jpwd': ''}\n",
    "namespace_o = argparse.Namespace(**options)"
   ]
  },
  {
   "cell_type": "code",
   "execution_count": 64,
   "metadata": {},
   "outputs": [],
   "source": [
    "def HA(options, epochs=10, train_split=0.8):\n",
    "    greeter = NeoDriver(options)\n",
    "\n",
    "    for epoch in range(epochs):\n",
    "        # query the dbms\n",
    "        query=\"\"\"WITH toInteger( rand() * 24) as hour, [0,15,30,45][toInteger(rand() * 4)] as minute\n",
    "            UNWIND range(1,31) as day\n",
    "            MATCH(s:Sensor)-[:HAS]-(m) \n",
    "            WHERE m.start_time.day = day AND m.start_time.hour = hour AND m.start_time.minute = minute \n",
    "            RETURN collect(m.total_flow) as vector, s.id as id \n",
    "            ORDER BY id\"\"\"\n",
    "        df = greeter.run_query(query)['vector']\n",
    "        # move to np\n",
    "        mat = np.stack(df.values)\n",
    "        # split by column and convert to Tensor\n",
    "        Train, Test = np.hsplit(mat, [int(train_split*mat.shape[1])])\n",
    "        print(f'train len: {Train.shape}\\t Test shape: {Test.shape}')\n",
    "\n",
    "\n",
    "        pred = np.mean(Train,axis=1)\n",
    "        label = [Test[:,i] for i  in range(Test.shape[1])]\n",
    "        mask = np.not_equal(label, 0)\n",
    "        mask = mask.astype(np.float32)\n",
    "        mask /= np.mean(mask)\n",
    "        mae = np.abs(np.subtract(pred, label)).astype(np.float32)\n",
    "        wape = np.divide(np.sum(mae), np.sum(label))\n",
    "        wape = np.nan_to_num(wape * mask)\n",
    "        rmse = np.square(mae)\n",
    "        mape = np.divide(mae, label)\n",
    "        mae = np.nan_to_num(mae * mask)\n",
    "        mae = np.mean(mae)\n",
    "        rmse = np.nan_to_num(rmse * mask)\n",
    "        rmse = np.sqrt(np.mean(rmse))\n",
    "        mape = np.nan_to_num(mape * mask)\n",
    "        mape = np.mean(mape)\n",
    "        print(f'step {epoch}: mae:{mae}\\t rmse:{rmse}\\t mape:{mape}')\n",
    "    "
   ]
  },
  {
   "cell_type": "code",
   "execution_count": 66,
   "metadata": {},
   "outputs": [
    {
     "name": "stdout",
     "output_type": "stream",
     "text": [
      "<class 'argparse.Namespace'>\n",
      "connection confirmed\n",
      "train len: (259, 24)\t Test shape: (259, 7)\n",
      "step 0: mae:10.885066986083984\t rmse:29.31426239013672\t mape:0.2695874827900709\n"
     ]
    },
    {
     "name": "stderr",
     "output_type": "stream",
     "text": [
      "/var/folders/zk/y_05r4dd4q51x5hx9n0nwwk80000gn/T/ipykernel_5698/7231377.py:29: RuntimeWarning: divide by zero encountered in divide\n",
      "  mape = np.divide(mae, label)\n",
      "/var/folders/zk/y_05r4dd4q51x5hx9n0nwwk80000gn/T/ipykernel_5698/7231377.py:29: RuntimeWarning: invalid value encountered in divide\n",
      "  mape = np.divide(mae, label)\n",
      "/var/folders/zk/y_05r4dd4q51x5hx9n0nwwk80000gn/T/ipykernel_5698/7231377.py:34: RuntimeWarning: invalid value encountered in multiply\n",
      "  mape = np.nan_to_num(mape * mask)\n"
     ]
    },
    {
     "name": "stdout",
     "output_type": "stream",
     "text": [
      "train len: (259, 24)\t Test shape: (259, 7)\n",
      "step 1: mae:15.376298904418945\t rmse:52.13982009887695\t mape:0.5300085304655253\n",
      "train len: (259, 24)\t Test shape: (259, 7)\n",
      "step 2: mae:7.327831268310547\t rmse:17.270254135131836\t mape:0.5700726629528278\n",
      "train len: (259, 24)\t Test shape: (259, 7)\n",
      "step 3: mae:14.638362884521484\t rmse:32.91659164428711\t mape:0.3159422721321001\n",
      "train len: (259, 24)\t Test shape: (259, 7)\n",
      "step 4: mae:14.378923416137695\t rmse:43.62812805175781\t mape:0.46866937063489417\n",
      "train len: (259, 24)\t Test shape: (259, 7)\n",
      "step 5: mae:6.364428997039795\t rmse:12.738496780395508\t mape:0.40332747894792104\n",
      "train len: (259, 24)\t Test shape: (259, 7)\n",
      "step 6: mae:5.7970380783081055\t rmse:17.773740768432617\t mape:0.39325860078175656\n",
      "train len: (259, 24)\t Test shape: (259, 7)\n",
      "step 7: mae:14.451576232910156\t rmse:22.34711456298828\t mape:0.8343206304093447\n",
      "train len: (259, 24)\t Test shape: (259, 7)\n",
      "step 8: mae:12.308202743530273\t rmse:27.536136627197266\t mape:0.2917082478436749\n",
      "train len: (259, 24)\t Test shape: (259, 7)\n",
      "step 9: mae:14.78046989440918\t rmse:31.39516258239746\t mape:0.29663975668687087\n"
     ]
    }
   ],
   "source": [
    "HA(namespace_o)"
   ]
  }
 ],
 "metadata": {
  "kernelspec": {
   "display_name": "GA",
   "language": "python",
   "name": "python3"
  },
  "language_info": {
   "codemirror_mode": {
    "name": "ipython",
    "version": 3
   },
   "file_extension": ".py",
   "mimetype": "text/x-python",
   "name": "python",
   "nbconvert_exporter": "python",
   "pygments_lexer": "ipython3",
   "version": "3.12.3"
  }
 },
 "nbformat": 4,
 "nbformat_minor": 2
}
