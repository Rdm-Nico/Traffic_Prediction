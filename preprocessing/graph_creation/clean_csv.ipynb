{
 "cells": [
  {
   "cell_type": "code",
   "execution_count": null,
   "metadata": {},
   "outputs": [
    {
     "ename": "",
     "evalue": "",
     "output_type": "error",
     "traceback": [
      "\u001b[1;31mFailed to start the Kernel. \n",
      "\u001b[1;31mTraceback (most recent call last):\n",
      "\u001b[1;31m  File \"<frozen runpy>\", line 198, in _run_module_as_main\n",
      "\u001b[1;31m  File \"<frozen runpy>\", line 88, in _run_code\n",
      "\u001b[1;31m  File \"/opt/anaconda3/envs/GA/lib/python3.12/site-packages/ipykernel_launcher.py\", line 16, in <module>\n",
      "\u001b[1;31m    from ipykernel import kernelapp as app\n",
      "\u001b[1;31m  File \"/opt/anaconda3/envs/GA/lib/python3.12/site-packages/ipykernel/kernelapp.py\", line 21, in <module>\n",
      "\u001b[1;31m    from IPython.core.application import (  # type:ignore[attr-defined]\n",
      "\u001b[1;31m  File \"/opt/anaconda3/envs/GA/lib/python3.12/site-packages/IPython/__init__.py\", line 55, in <module>\n",
      "\u001b[1;31m    from .terminal.embed import embed\n",
      "\u001b[1;31m  File \"/opt/anaconda3/envs/GA/lib/python3.12/site-packages/IPython/terminal/embed.py\", line 15, in <module>\n",
      "\u001b[1;31m    from IPython.core.interactiveshell import DummyMod, InteractiveShell\n",
      "\u001b[1;31m  File \"/opt/anaconda3/envs/GA/lib/python3.12/site-packages/IPython/core/interactiveshell.py\", line 110, in <module>\n",
      "\u001b[1;31m    from IPython.core.history import HistoryManager\n",
      "\u001b[1;31m  File \"/opt/anaconda3/envs/GA/lib/python3.12/site-packages/IPython/core/history.py\", line 10, in <module>\n",
      "\u001b[1;31m    import sqlite3\n",
      "\u001b[1;31m  File \"/opt/anaconda3/envs/GA/lib/python3.12/sqlite3/__init__.py\", line 57, in <module>\n",
      "\u001b[1;31m    from sqlite3.dbapi2 import *\n",
      "\u001b[1;31m  File \"/opt/anaconda3/envs/GA/lib/python3.12/sqlite3/dbapi2.py\", line 27, in <module>\n",
      "\u001b[1;31m    from _sqlite3 import *\n",
      "\u001b[1;31mImportError: dlopen(/opt/anaconda3/envs/GA/lib/python3.12/lib-dynload/_sqlite3.cpython-312-darwin.so, 0x0002): Symbol not found: _sqlite3_enable_load_extension\n",
      "\u001b[1;31m  Referenced from: <C8AF5FB5-9DB8-3862-BB69-FA7A8046242D> /opt/anaconda3/envs/GA/lib/python3.12/lib-dynload/_sqlite3.cpython-312-darwin.so\n",
      "\u001b[1;31m  Expected in:     <5CB58732-A636-3084-9F64-55122BEAB1A7> /usr/lib/libsqlite3.dylib. \n",
      "\u001b[1;31mView Jupyter <a href='command:jupyter.viewOutput'>log</a> for further details."
     ]
    }
   ],
   "source": [
    "import pandas as pd\n",
    "input_file = \"./raw_data/traffic_data_january_2020.csv\""
   ]
  },
  {
   "cell_type": "code",
   "execution_count": 67,
   "metadata": {},
   "outputs": [],
   "source": [
    "df = pd.read_csv(input_file,sep=\"|\")"
   ]
  },
  {
   "cell_type": "code",
   "execution_count": 68,
   "metadata": {},
   "outputs": [
    {
     "data": {
      "text/plain": [
       "Index([' id_sensor_traffic ', '        datetime         ',\n",
       "       '          vehicle_type           ', ' speed ', ' flow '],\n",
       "      dtype='object')"
      ]
     },
     "execution_count": 68,
     "metadata": {},
     "output_type": "execute_result"
    }
   ],
   "source": [
    "df.columns"
   ]
  },
  {
   "cell_type": "code",
   "execution_count": 69,
   "metadata": {},
   "outputs": [
    {
     "data": {
      "text/plain": [
       "Index(['id_sensor_traffic', 'datetime', 'vehicle_type', 'speed', 'flow'], dtype='object')"
      ]
     },
     "execution_count": 69,
     "metadata": {},
     "output_type": "execute_result"
    }
   ],
   "source": [
    "df.rename(columns={column : column.strip() for column in df.columns}, inplace=True)\n",
    "df.columns"
   ]
  },
  {
   "cell_type": "code",
   "execution_count": 70,
   "metadata": {},
   "outputs": [
    {
     "data": {
      "text/plain": [
       "Index(['id_sensor_traffic', 'datetime', 'flow'], dtype='object')"
      ]
     },
     "execution_count": 70,
     "metadata": {},
     "output_type": "execute_result"
    }
   ],
   "source": [
    "del df['vehicle_type']\n",
    "del df['speed']\n",
    "df.columns"
   ]
  },
  {
   "cell_type": "code",
   "execution_count": 71,
   "metadata": {},
   "outputs": [
    {
     "data": {
      "text/plain": [
       "id_sensor_traffic    0\n",
       "datetime             2\n",
       "flow                 2\n",
       "dtype: int64"
      ]
     },
     "execution_count": 71,
     "metadata": {},
     "output_type": "execute_result"
    }
   ],
   "source": [
    "df.isna().sum()"
   ]
  },
  {
   "cell_type": "code",
   "execution_count": 72,
   "metadata": {},
   "outputs": [],
   "source": [
    "df = df.dropna(how='any', axis=0)"
   ]
  },
  {
   "cell_type": "code",
   "execution_count": 73,
   "metadata": {},
   "outputs": [
    {
     "data": {
      "text/html": [
       "<div>\n",
       "<style scoped>\n",
       "    .dataframe tbody tr th:only-of-type {\n",
       "        vertical-align: middle;\n",
       "    }\n",
       "\n",
       "    .dataframe tbody tr th {\n",
       "        vertical-align: top;\n",
       "    }\n",
       "\n",
       "    .dataframe thead th {\n",
       "        text-align: right;\n",
       "    }\n",
       "</style>\n",
       "<table border=\"1\" class=\"dataframe\">\n",
       "  <thead>\n",
       "    <tr style=\"text-align: right;\">\n",
       "      <th></th>\n",
       "      <th>id_sensor_traffic</th>\n",
       "      <th>datetime</th>\n",
       "    </tr>\n",
       "  </thead>\n",
       "  <tbody>\n",
       "    <tr>\n",
       "      <th>1</th>\n",
       "      <td>R123_S1</td>\n",
       "      <td>2020-01-31 23:59:09.987</td>\n",
       "    </tr>\n",
       "    <tr>\n",
       "      <th>2</th>\n",
       "      <td>R098_S1</td>\n",
       "      <td>2020-01-31 23:59:08.97</td>\n",
       "    </tr>\n",
       "    <tr>\n",
       "      <th>3</th>\n",
       "      <td>R098_S2</td>\n",
       "      <td>2020-01-31 23:59:08.97</td>\n",
       "    </tr>\n",
       "    <tr>\n",
       "      <th>4</th>\n",
       "      <td>R098_S3</td>\n",
       "      <td>2020-01-31 23:59:08.97</td>\n",
       "    </tr>\n",
       "    <tr>\n",
       "      <th>5</th>\n",
       "      <td>R098_S4</td>\n",
       "      <td>2020-01-31 23:59:08.97</td>\n",
       "    </tr>\n",
       "    <tr>\n",
       "      <th>...</th>\n",
       "      <td>...</td>\n",
       "      <td>...</td>\n",
       "    </tr>\n",
       "    <tr>\n",
       "      <th>13141660</th>\n",
       "      <td>LP12</td>\n",
       "      <td>2020-01-01 00:00:00</td>\n",
       "    </tr>\n",
       "    <tr>\n",
       "      <th>13141661</th>\n",
       "      <td>LP12</td>\n",
       "      <td>2020-01-01 00:00:00</td>\n",
       "    </tr>\n",
       "    <tr>\n",
       "      <th>13141662</th>\n",
       "      <td>LP12</td>\n",
       "      <td>2020-01-01 00:00:00</td>\n",
       "    </tr>\n",
       "    <tr>\n",
       "      <th>13141663</th>\n",
       "      <td>LP12</td>\n",
       "      <td>2020-01-01 00:00:00</td>\n",
       "    </tr>\n",
       "    <tr>\n",
       "      <th>13141664</th>\n",
       "      <td>LP13</td>\n",
       "      <td>2020-01-01 00:00:00</td>\n",
       "    </tr>\n",
       "  </tbody>\n",
       "</table>\n",
       "<p>13141664 rows × 2 columns</p>\n",
       "</div>"
      ],
      "text/plain": [
       "            id_sensor_traffic                   datetime\n",
       "1          R123_S1              2020-01-31 23:59:09.987 \n",
       "2          R098_S1              2020-01-31 23:59:08.97  \n",
       "3          R098_S2              2020-01-31 23:59:08.97  \n",
       "4          R098_S3              2020-01-31 23:59:08.97  \n",
       "5          R098_S4              2020-01-31 23:59:08.97  \n",
       "...                       ...                        ...\n",
       "13141660   LP12                 2020-01-01 00:00:00     \n",
       "13141661   LP12                 2020-01-01 00:00:00     \n",
       "13141662   LP12                 2020-01-01 00:00:00     \n",
       "13141663   LP12                 2020-01-01 00:00:00     \n",
       "13141664   LP13                 2020-01-01 00:00:00     \n",
       "\n",
       "[13141664 rows x 2 columns]"
      ]
     },
     "execution_count": 73,
     "metadata": {},
     "output_type": "execute_result"
    }
   ],
   "source": [
    "df[['id_sensor_traffic', 'datetime']]"
   ]
  },
  {
   "cell_type": "code",
   "execution_count": 74,
   "metadata": {},
   "outputs": [],
   "source": [
    "# strip the columns \n",
    "df[['id_sensor_traffic', 'datetime']] = df[['id_sensor_traffic', 'datetime']].apply(lambda x: x.str.strip())"
   ]
  },
  {
   "cell_type": "code",
   "execution_count": 75,
   "metadata": {},
   "outputs": [],
   "source": [
    "from datetime import datetime\n",
    "def uniform_data(data_str):\n",
    "    try:\n",
    "        dt = datetime.strptime(data_str, \"%Y-%m-%d %H:%M:%S.%f\")\n",
    "    except ValueError:\n",
    "        try:\n",
    "            dt = datetime.strptime(data_str, \"%d/%m/%y %H:%M\")\n",
    "            # add second and microsec\n",
    "            dt = dt.replace(second=0, microsecond=0)\n",
    "        except ValueError:\n",
    "            try:\n",
    "                 dt = datetime.strptime(data_str, \"%Y-%m-%d %H:%M:%S\")\n",
    "                 # add microsec\n",
    "                 dt = dt.replace(microsecond=0)\n",
    "            except:\n",
    "                raise ValueError(f\"unknown format: {data_str}\")\n",
    "    # return data in uniform format with truncted decimal\n",
    "    return dt.strftime(\"%Y-%m-%d %H:%M:%S.%f\")"
   ]
  },
  {
   "cell_type": "code",
   "execution_count": 76,
   "metadata": {},
   "outputs": [],
   "source": [
    "# select the column\n",
    "data_colum = df.columns[1]\n",
    "# apply conv\n",
    "df[data_colum] = df[data_colum].apply(uniform_data)"
   ]
  },
  {
   "cell_type": "code",
   "execution_count": 78,
   "metadata": {},
   "outputs": [
    {
     "data": {
      "text/html": [
       "<div>\n",
       "<style scoped>\n",
       "    .dataframe tbody tr th:only-of-type {\n",
       "        vertical-align: middle;\n",
       "    }\n",
       "\n",
       "    .dataframe tbody tr th {\n",
       "        vertical-align: top;\n",
       "    }\n",
       "\n",
       "    .dataframe thead th {\n",
       "        text-align: right;\n",
       "    }\n",
       "</style>\n",
       "<table border=\"1\" class=\"dataframe\">\n",
       "  <thead>\n",
       "    <tr style=\"text-align: right;\">\n",
       "      <th></th>\n",
       "      <th>id_sensor_traffic</th>\n",
       "      <th>datetime</th>\n",
       "      <th>flow</th>\n",
       "    </tr>\n",
       "  </thead>\n",
       "  <tbody>\n",
       "    <tr>\n",
       "      <th>1</th>\n",
       "      <td>R123_S1</td>\n",
       "      <td>2020-01-31 23:59:09</td>\n",
       "      <td>0.0</td>\n",
       "    </tr>\n",
       "    <tr>\n",
       "      <th>2</th>\n",
       "      <td>R098_S1</td>\n",
       "      <td>2020-01-31 23:59:08</td>\n",
       "      <td>0.0</td>\n",
       "    </tr>\n",
       "    <tr>\n",
       "      <th>3</th>\n",
       "      <td>R098_S2</td>\n",
       "      <td>2020-01-31 23:59:08</td>\n",
       "      <td>0.0</td>\n",
       "    </tr>\n",
       "    <tr>\n",
       "      <th>4</th>\n",
       "      <td>R098_S3</td>\n",
       "      <td>2020-01-31 23:59:08</td>\n",
       "      <td>1.0</td>\n",
       "    </tr>\n",
       "    <tr>\n",
       "      <th>5</th>\n",
       "      <td>R098_S4</td>\n",
       "      <td>2020-01-31 23:59:08</td>\n",
       "      <td>1.0</td>\n",
       "    </tr>\n",
       "  </tbody>\n",
       "</table>\n",
       "</div>"
      ],
      "text/plain": [
       "  id_sensor_traffic             datetime  flow\n",
       "1           R123_S1  2020-01-31 23:59:09   0.0\n",
       "2           R098_S1  2020-01-31 23:59:08   0.0\n",
       "3           R098_S2  2020-01-31 23:59:08   0.0\n",
       "4           R098_S3  2020-01-31 23:59:08   1.0\n",
       "5           R098_S4  2020-01-31 23:59:08   1.0"
      ]
     },
     "execution_count": 78,
     "metadata": {},
     "output_type": "execute_result"
    }
   ],
   "source": [
    "df[data_colum] = df[data_colum].apply(lambda x: x[:-7])\n",
    "df.head()"
   ]
  },
  {
   "cell_type": "code",
   "execution_count": 79,
   "metadata": {},
   "outputs": [],
   "source": [
    "df_cut = df[:10_000]"
   ]
  },
  {
   "cell_type": "code",
   "execution_count": 82,
   "metadata": {},
   "outputs": [],
   "source": [
    " # save dfs\n",
    "df.to_csv(\"./raw_data/traffic_data_january_2020_postprocess.csv\", index=False)\n",
    "df_cut.to_csv(\"./raw_data/traffic_data_10000.csv\", index=False)"
   ]
  },
  {
   "cell_type": "code",
   "execution_count": null,
   "metadata": {},
   "outputs": [
    {
     "ename": "",
     "evalue": "",
     "output_type": "error",
     "traceback": [
      "\u001b[1;31mFailed to start the Kernel. \n",
      "\u001b[1;31mTraceback (most recent call last):\n",
      "\u001b[1;31m  File \"<frozen runpy>\", line 198, in _run_module_as_main\n",
      "\u001b[1;31m  File \"<frozen runpy>\", line 88, in _run_code\n",
      "\u001b[1;31m  File \"/opt/anaconda3/envs/GA/lib/python3.12/site-packages/ipykernel_launcher.py\", line 16, in <module>\n",
      "\u001b[1;31m    from ipykernel import kernelapp as app\n",
      "\u001b[1;31m  File \"/opt/anaconda3/envs/GA/lib/python3.12/site-packages/ipykernel/kernelapp.py\", line 21, in <module>\n",
      "\u001b[1;31m    from IPython.core.application import (  # type:ignore[attr-defined]\n",
      "\u001b[1;31m  File \"/opt/anaconda3/envs/GA/lib/python3.12/site-packages/IPython/__init__.py\", line 55, in <module>\n",
      "\u001b[1;31m    from .terminal.embed import embed\n",
      "\u001b[1;31m  File \"/opt/anaconda3/envs/GA/lib/python3.12/site-packages/IPython/terminal/embed.py\", line 15, in <module>\n",
      "\u001b[1;31m    from IPython.core.interactiveshell import DummyMod, InteractiveShell\n",
      "\u001b[1;31m  File \"/opt/anaconda3/envs/GA/lib/python3.12/site-packages/IPython/core/interactiveshell.py\", line 110, in <module>\n",
      "\u001b[1;31m    from IPython.core.history import HistoryManager\n",
      "\u001b[1;31m  File \"/opt/anaconda3/envs/GA/lib/python3.12/site-packages/IPython/core/history.py\", line 10, in <module>\n",
      "\u001b[1;31m    import sqlite3\n",
      "\u001b[1;31m  File \"/opt/anaconda3/envs/GA/lib/python3.12/sqlite3/__init__.py\", line 57, in <module>\n",
      "\u001b[1;31m    from sqlite3.dbapi2 import *\n",
      "\u001b[1;31m  File \"/opt/anaconda3/envs/GA/lib/python3.12/sqlite3/dbapi2.py\", line 27, in <module>\n",
      "\u001b[1;31m    from _sqlite3 import *\n",
      "\u001b[1;31mImportError: dlopen(/opt/anaconda3/envs/GA/lib/python3.12/lib-dynload/_sqlite3.cpython-312-darwin.so, 0x0002): Symbol not found: _sqlite3_enable_load_extension\n",
      "\u001b[1;31m  Referenced from: <C8AF5FB5-9DB8-3862-BB69-FA7A8046242D> /opt/anaconda3/envs/GA/lib/python3.12/lib-dynload/_sqlite3.cpython-312-darwin.so\n",
      "\u001b[1;31m  Expected in:     <5CB58732-A636-3084-9F64-55122BEAB1A7> /usr/lib/libsqlite3.dylib. \n",
      "\u001b[1;31mView Jupyter <a href='command:jupyter.viewOutput'>log</a> for further details."
     ]
    }
   ],
   "source": [
    "df = pd.read_csv(\"./raw_data/traffic_data_january_2020_postprocess.csv\")\n",
    "df.keys()"
   ]
  },
  {
   "cell_type": "code",
   "execution_count": 3,
   "metadata": {},
   "outputs": [
    {
     "data": {
      "text/html": [
       "<div>\n",
       "<style scoped>\n",
       "    .dataframe tbody tr th:only-of-type {\n",
       "        vertical-align: middle;\n",
       "    }\n",
       "\n",
       "    .dataframe tbody tr th {\n",
       "        vertical-align: top;\n",
       "    }\n",
       "\n",
       "    .dataframe thead th {\n",
       "        text-align: right;\n",
       "    }\n",
       "</style>\n",
       "<table border=\"1\" class=\"dataframe\">\n",
       "  <thead>\n",
       "    <tr style=\"text-align: right;\">\n",
       "      <th></th>\n",
       "      <th>id_sensor_traffic</th>\n",
       "      <th>datetime</th>\n",
       "      <th>flow</th>\n",
       "    </tr>\n",
       "  </thead>\n",
       "  <tbody>\n",
       "    <tr>\n",
       "      <th>0</th>\n",
       "      <td>R123_S1</td>\n",
       "      <td>2020-01-31 23:59:09</td>\n",
       "      <td>0.0</td>\n",
       "    </tr>\n",
       "    <tr>\n",
       "      <th>1</th>\n",
       "      <td>R098_S1</td>\n",
       "      <td>2020-01-31 23:59:08</td>\n",
       "      <td>0.0</td>\n",
       "    </tr>\n",
       "    <tr>\n",
       "      <th>2</th>\n",
       "      <td>R098_S2</td>\n",
       "      <td>2020-01-31 23:59:08</td>\n",
       "      <td>0.0</td>\n",
       "    </tr>\n",
       "    <tr>\n",
       "      <th>3</th>\n",
       "      <td>R098_S3</td>\n",
       "      <td>2020-01-31 23:59:08</td>\n",
       "      <td>1.0</td>\n",
       "    </tr>\n",
       "    <tr>\n",
       "      <th>4</th>\n",
       "      <td>R098_S4</td>\n",
       "      <td>2020-01-31 23:59:08</td>\n",
       "      <td>1.0</td>\n",
       "    </tr>\n",
       "  </tbody>\n",
       "</table>\n",
       "</div>"
      ],
      "text/plain": [
       "  id_sensor_traffic             datetime  flow\n",
       "0           R123_S1  2020-01-31 23:59:09   0.0\n",
       "1           R098_S1  2020-01-31 23:59:08   0.0\n",
       "2           R098_S2  2020-01-31 23:59:08   0.0\n",
       "3           R098_S3  2020-01-31 23:59:08   1.0\n",
       "4           R098_S4  2020-01-31 23:59:08   1.0"
      ]
     },
     "execution_count": 3,
     "metadata": {},
     "output_type": "execute_result"
    }
   ],
   "source": [
    "df.head()"
   ]
  },
  {
   "cell_type": "code",
   "execution_count": 4,
   "metadata": {},
   "outputs": [
    {
     "data": {
      "text/plain": [
       "datetime\n",
       "2020-01-01 00:00:00    568\n",
       "2020-01-01 00:00:07      6\n",
       "2020-01-01 00:00:09     20\n",
       "2020-01-01 00:00:10     37\n",
       "2020-01-01 00:00:11      3\n",
       "                      ... \n",
       "2020-01-31 23:59:05     19\n",
       "2020-01-31 23:59:06     32\n",
       "2020-01-31 23:59:07     36\n",
       "2020-01-31 23:59:08     51\n",
       "2020-01-31 23:59:09      1\n",
       "Name: id_sensor_traffic, Length: 388229, dtype: int64"
      ]
     },
     "execution_count": 4,
     "metadata": {},
     "output_type": "execute_result"
    }
   ],
   "source": [
    "df.groupby(\"datetime\")['id_sensor_traffic'].count()"
   ]
  },
  {
   "cell_type": "code",
   "execution_count": 5,
   "metadata": {},
   "outputs": [
    {
     "data": {
      "text/html": [
       "<div>\n",
       "<style scoped>\n",
       "    .dataframe tbody tr th:only-of-type {\n",
       "        vertical-align: middle;\n",
       "    }\n",
       "\n",
       "    .dataframe tbody tr th {\n",
       "        vertical-align: top;\n",
       "    }\n",
       "\n",
       "    .dataframe thead th {\n",
       "        text-align: right;\n",
       "    }\n",
       "</style>\n",
       "<table border=\"1\" class=\"dataframe\">\n",
       "  <thead>\n",
       "    <tr style=\"text-align: right;\">\n",
       "      <th></th>\n",
       "      <th>id_sensor_traffic</th>\n",
       "      <th>datetime</th>\n",
       "      <th>flow</th>\n",
       "    </tr>\n",
       "  </thead>\n",
       "  <tbody>\n",
       "    <tr>\n",
       "      <th>247</th>\n",
       "      <td>R154_S1</td>\n",
       "      <td>2020-01-31 23:59:00</td>\n",
       "      <td>1.0</td>\n",
       "    </tr>\n",
       "    <tr>\n",
       "      <th>428</th>\n",
       "      <td>R154_S1</td>\n",
       "      <td>2020-01-31 23:58:00</td>\n",
       "      <td>1.0</td>\n",
       "    </tr>\n",
       "    <tr>\n",
       "      <th>675</th>\n",
       "      <td>R154_S1</td>\n",
       "      <td>2020-01-31 23:57:00</td>\n",
       "      <td>0.0</td>\n",
       "    </tr>\n",
       "    <tr>\n",
       "      <th>988</th>\n",
       "      <td>R154_S1</td>\n",
       "      <td>2020-01-31 23:56:00</td>\n",
       "      <td>0.0</td>\n",
       "    </tr>\n",
       "    <tr>\n",
       "      <th>1282</th>\n",
       "      <td>R154_S1</td>\n",
       "      <td>2020-01-31 23:55:00</td>\n",
       "      <td>0.0</td>\n",
       "    </tr>\n",
       "    <tr>\n",
       "      <th>...</th>\n",
       "      <td>...</td>\n",
       "      <td>...</td>\n",
       "      <td>...</td>\n",
       "    </tr>\n",
       "    <tr>\n",
       "      <th>13140227</th>\n",
       "      <td>R154_S1</td>\n",
       "      <td>2020-01-01 00:04:00</td>\n",
       "      <td>0.0</td>\n",
       "    </tr>\n",
       "    <tr>\n",
       "      <th>13140416</th>\n",
       "      <td>R154_S1</td>\n",
       "      <td>2020-01-01 00:03:00</td>\n",
       "      <td>1.0</td>\n",
       "    </tr>\n",
       "    <tr>\n",
       "      <th>13140758</th>\n",
       "      <td>R154_S1</td>\n",
       "      <td>2020-01-01 00:02:00</td>\n",
       "      <td>0.0</td>\n",
       "    </tr>\n",
       "    <tr>\n",
       "      <th>13140934</th>\n",
       "      <td>R154_S1</td>\n",
       "      <td>2020-01-01 00:01:00</td>\n",
       "      <td>1.0</td>\n",
       "    </tr>\n",
       "    <tr>\n",
       "      <th>13141223</th>\n",
       "      <td>R154_S1</td>\n",
       "      <td>2020-01-01 00:00:00</td>\n",
       "      <td>0.0</td>\n",
       "    </tr>\n",
       "  </tbody>\n",
       "</table>\n",
       "<p>44637 rows × 3 columns</p>\n",
       "</div>"
      ],
      "text/plain": [
       "         id_sensor_traffic             datetime  flow\n",
       "247                R154_S1  2020-01-31 23:59:00   1.0\n",
       "428                R154_S1  2020-01-31 23:58:00   1.0\n",
       "675                R154_S1  2020-01-31 23:57:00   0.0\n",
       "988                R154_S1  2020-01-31 23:56:00   0.0\n",
       "1282               R154_S1  2020-01-31 23:55:00   0.0\n",
       "...                    ...                  ...   ...\n",
       "13140227           R154_S1  2020-01-01 00:04:00   0.0\n",
       "13140416           R154_S1  2020-01-01 00:03:00   1.0\n",
       "13140758           R154_S1  2020-01-01 00:02:00   0.0\n",
       "13140934           R154_S1  2020-01-01 00:01:00   1.0\n",
       "13141223           R154_S1  2020-01-01 00:00:00   0.0\n",
       "\n",
       "[44637 rows x 3 columns]"
      ]
     },
     "execution_count": 5,
     "metadata": {},
     "output_type": "execute_result"
    }
   ],
   "source": [
    "df[df['id_sensor_traffic'] == 'R154_S1']"
   ]
  }
 ],
 "metadata": {
  "kernelspec": {
   "display_name": "GA",
   "language": "python",
   "name": "python3"
  },
  "language_info": {
   "codemirror_mode": {
    "name": "ipython",
    "version": 3
   },
   "file_extension": ".py",
   "mimetype": "text/x-python",
   "name": "python",
   "nbconvert_exporter": "python",
   "pygments_lexer": "ipython3",
   "version": "3.12.3"
  }
 },
 "nbformat": 4,
 "nbformat_minor": 2
}
